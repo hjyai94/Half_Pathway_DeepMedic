{
 "cells": [
  {
   "cell_type": "code",
   "execution_count": 1,
   "metadata": {},
   "outputs": [],
   "source": [
    "import os \n",
    "import numpy as np\n",
    "import nibabel as nib \n",
    "from nilearn.masking import compute_background_mask"
   ]
  },
  {
   "cell_type": "code",
   "execution_count": 2,
   "metadata": {},
   "outputs": [],
   "source": [
    "data_root = '/home/ecust/hjy/My_own_brats_segmentation/dataset/Brats17TrainingData'"
   ]
  },
  {
   "cell_type": "code",
   "execution_count": 3,
   "metadata": {},
   "outputs": [],
   "source": [
    "# HGG_data_list = os.listdir(data_root + '/' + 'HGG')\n",
    "LGG_data_list = os.listdir(data_root + '/' + 'LGG')"
   ]
  },
  {
   "cell_type": "code",
   "execution_count": 5,
   "metadata": {},
   "outputs": [],
   "source": [
    "# for sub in HGG_data_list:\n",
    "#     mask_img = compute_background_mask(data_root + '/' + 'HGG/' + sub + '/' + sub + '_flair.nii.gz')\n",
    "#     nib.save(mask_img, data_root + '/' + 'HGG/' + sub + '/' + sub + '_mask.nii.gz')\n",
    "\n",
    "for sub in LGG_data_list:\n",
    "    mask_img = compute_background_mask(data_root + '/' + 'LGG/' + sub + '/' + sub + '_flair.nii.gz')\n",
    "    nib.save(mask_img, data_root + '/' + 'LGG/' + sub + '/' + sub + '_mask.nii.gz')  "
   ]
  },
  {
   "cell_type": "code",
   "execution_count": null,
   "metadata": {},
   "outputs": [],
   "source": []
  }
 ],
 "metadata": {
  "kernelspec": {
   "display_name": "Python 3",
   "language": "python",
   "name": "python3"
  },
  "language_info": {
   "codemirror_mode": {
    "name": "ipython",
    "version": 3
   },
   "file_extension": ".py",
   "mimetype": "text/x-python",
   "name": "python",
   "nbconvert_exporter": "python",
   "pygments_lexer": "ipython3",
   "version": "3.6.3"
  }
 },
 "nbformat": 4,
 "nbformat_minor": 2
}
